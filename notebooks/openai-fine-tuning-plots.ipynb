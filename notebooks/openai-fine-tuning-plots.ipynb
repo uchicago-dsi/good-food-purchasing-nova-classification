{
 "cells": [
  {
   "cell_type": "code",
   "execution_count": 1,
   "id": "8edffaae-018f-4d04-80f2-a9ac9c65199a",
   "metadata": {},
   "outputs": [],
   "source": [
    "import glob\n",
    "import os\n",
    "\n",
    "import numpy as np\n",
    "import pandas as pd\n",
    "import matplotlib.pyplot as plt"
   ]
  },
  {
   "cell_type": "code",
   "execution_count": 2,
   "id": "652eeb81-3c3e-4bf0-a5e2-475d0fd44530",
   "metadata": {},
   "outputs": [
    {
     "data": {
      "text/html": [
       "<div>\n",
       "<style scoped>\n",
       "    .dataframe tbody tr th:only-of-type {\n",
       "        vertical-align: middle;\n",
       "    }\n",
       "\n",
       "    .dataframe tbody tr th {\n",
       "        vertical-align: top;\n",
       "    }\n",
       "\n",
       "    .dataframe thead th {\n",
       "        text-align: right;\n",
       "    }\n",
       "</style>\n",
       "<table border=\"1\" class=\"dataframe\">\n",
       "  <thead>\n",
       "    <tr style=\"text-align: right;\">\n",
       "      <th></th>\n",
       "      <th>P1</th>\n",
       "      <th>P2</th>\n",
       "      <th>P3</th>\n",
       "      <th>P4</th>\n",
       "      <th>truth</th>\n",
       "    </tr>\n",
       "    <tr>\n",
       "      <th>index</th>\n",
       "      <th></th>\n",
       "      <th></th>\n",
       "      <th></th>\n",
       "      <th></th>\n",
       "      <th></th>\n",
       "    </tr>\n",
       "  </thead>\n",
       "  <tbody>\n",
       "    <tr>\n",
       "      <th>0</th>\n",
       "      <td>3.514684e-05</td>\n",
       "      <td>2.546029e-06</td>\n",
       "      <td>5.910793e-03</td>\n",
       "      <td>9.940426e-01</td>\n",
       "      <td>4</td>\n",
       "    </tr>\n",
       "    <tr>\n",
       "      <th>1</th>\n",
       "      <td>9.940412e-01</td>\n",
       "      <td>5.910785e-03</td>\n",
       "      <td>1.292979e-05</td>\n",
       "      <td>0.000000e+00</td>\n",
       "      <td>3</td>\n",
       "    </tr>\n",
       "    <tr>\n",
       "      <th>2</th>\n",
       "      <td>9.999244e-01</td>\n",
       "      <td>0.000000e+00</td>\n",
       "      <td>0.000000e+00</td>\n",
       "      <td>0.000000e+00</td>\n",
       "      <td>1</td>\n",
       "    </tr>\n",
       "    <tr>\n",
       "      <th>3</th>\n",
       "      <td>2.501876e-04</td>\n",
       "      <td>4.207507e-02</td>\n",
       "      <td>9.576242e-01</td>\n",
       "      <td>9.023172e-07</td>\n",
       "      <td>4</td>\n",
       "    </tr>\n",
       "    <tr>\n",
       "      <th>4</th>\n",
       "      <td>1.342501e-07</td>\n",
       "      <td>4.732478e-06</td>\n",
       "      <td>9.889993e-01</td>\n",
       "      <td>1.098679e-02</td>\n",
       "      <td>2</td>\n",
       "    </tr>\n",
       "    <tr>\n",
       "      <th>...</th>\n",
       "      <td>...</td>\n",
       "      <td>...</td>\n",
       "      <td>...</td>\n",
       "      <td>...</td>\n",
       "      <td>...</td>\n",
       "    </tr>\n",
       "    <tr>\n",
       "      <th>210</th>\n",
       "      <td>9.237414e-09</td>\n",
       "      <td>7.123129e-10</td>\n",
       "      <td>1.067700e-06</td>\n",
       "      <td>9.999959e-01</td>\n",
       "      <td>3</td>\n",
       "    </tr>\n",
       "    <tr>\n",
       "      <th>211</th>\n",
       "      <td>9.999682e-01</td>\n",
       "      <td>6.962086e-06</td>\n",
       "      <td>5.602615e-09</td>\n",
       "      <td>0.000000e+00</td>\n",
       "      <td>2</td>\n",
       "    </tr>\n",
       "    <tr>\n",
       "      <th>212</th>\n",
       "      <td>8.764181e-08</td>\n",
       "      <td>3.927834e-07</td>\n",
       "      <td>9.999928e-01</td>\n",
       "      <td>1.209858e-06</td>\n",
       "      <td>3</td>\n",
       "    </tr>\n",
       "    <tr>\n",
       "      <th>213</th>\n",
       "      <td>2.438382e-01</td>\n",
       "      <td>7.510745e-01</td>\n",
       "      <td>5.060699e-03</td>\n",
       "      <td>5.403326e-09</td>\n",
       "      <td>1</td>\n",
       "    </tr>\n",
       "    <tr>\n",
       "      <th>214</th>\n",
       "      <td>9.999439e-01</td>\n",
       "      <td>1.473837e-05</td>\n",
       "      <td>9.421925e-07</td>\n",
       "      <td>0.000000e+00</td>\n",
       "      <td>4</td>\n",
       "    </tr>\n",
       "  </tbody>\n",
       "</table>\n",
       "<p>215 rows × 5 columns</p>\n",
       "</div>"
      ],
      "text/plain": [
       "                 P1            P2            P3            P4  truth\n",
       "index                                                               \n",
       "0      3.514684e-05  2.546029e-06  5.910793e-03  9.940426e-01      4\n",
       "1      9.940412e-01  5.910785e-03  1.292979e-05  0.000000e+00      3\n",
       "2      9.999244e-01  0.000000e+00  0.000000e+00  0.000000e+00      1\n",
       "3      2.501876e-04  4.207507e-02  9.576242e-01  9.023172e-07      4\n",
       "4      1.342501e-07  4.732478e-06  9.889993e-01  1.098679e-02      2\n",
       "...             ...           ...           ...           ...    ...\n",
       "210    9.237414e-09  7.123129e-10  1.067700e-06  9.999959e-01      3\n",
       "211    9.999682e-01  6.962086e-06  5.602615e-09  0.000000e+00      2\n",
       "212    8.764181e-08  3.927834e-07  9.999928e-01  1.209858e-06      3\n",
       "213    2.438382e-01  7.510745e-01  5.060699e-03  5.403326e-09      1\n",
       "214    9.999439e-01  1.473837e-05  9.421925e-07  0.000000e+00      4\n",
       "\n",
       "[215 rows x 5 columns]"
      ]
     },
     "execution_count": 2,
     "metadata": {},
     "output_type": "execute_result"
    }
   ],
   "source": [
    "results = []\n",
    "for filename in glob.glob(os.path.expanduser(\"~/dsi/good-food-purchasing-nova-classification/test-results/try5/gpt-4.1-nano/*.csv\")):\n",
    "    results.append(pd.read_csv(filename, header=None, names=[\"index\", \"P1\", \"P2\", \"P3\", \"P4\", \"truth\"]))\n",
    "\n",
    "results = pd.concat(results).set_index(\"index\").sort_index()\n",
    "results"
   ]
  },
  {
   "cell_type": "code",
   "execution_count": 3,
   "id": "11fa1b15-b039-406d-b446-f098fd13f854",
   "metadata": {},
   "outputs": [
    {
     "data": {
      "text/plain": [
       "count    215.000000\n",
       "mean       0.999938\n",
       "std        0.000113\n",
       "min        0.999080\n",
       "25%        0.999934\n",
       "50%        0.999971\n",
       "75%        0.999992\n",
       "max        1.000000\n",
       "dtype: float64"
      ]
     },
     "execution_count": 3,
     "metadata": {},
     "output_type": "execute_result"
    }
   ],
   "source": [
    "results[[\"P1\", \"P2\", \"P3\", \"P4\"]].sum(axis=1).describe()"
   ]
  },
  {
   "cell_type": "code",
   "execution_count": 4,
   "id": "904f2e3d-6670-41e6-b958-9df66456eb85",
   "metadata": {},
   "outputs": [
    {
     "data": {
      "image/png": "[encoded data removed]",
      "text/plain": [
       "<Figure size 700x700 with 4 Axes>"
      ]
     },
     "metadata": {},
     "output_type": "display_data"
    }
   ],
   "source": [
    "fig, ((ax1, ax2), (ax3, ax4)) = plt.subplots(2, 2, figsize=(7, 7))\n",
    "\n",
    "ax1.hist(results.query(\"truth == 1\")[\"P1\"], bins=50, range=(0, 1), histtype=\"step\", fill=True, color=\"lightblue\", edgecolor=\"blue\")\n",
    "ax1.set_xlabel(\"P(NOVA group 1 | truth = 1)\")\n",
    "\n",
    "ax2.hist(results.query(\"truth == 2\")[\"P2\"], bins=50, range=(0, 1), histtype=\"step\", fill=True, color=\"lightblue\", edgecolor=\"blue\")\n",
    "ax2.set_xlabel(\"P(NOVA group 2 | truth = 2)\")\n",
    "\n",
    "ax3.hist(results.query(\"truth == 3\")[\"P3\"], bins=50, range=(0, 1), histtype=\"step\", fill=True, color=\"lightblue\", edgecolor=\"blue\")\n",
    "ax3.set_xlabel(\"P(NOVA group 3 | truth = 3)\")\n",
    "\n",
    "ax4.hist(results.query(\"truth == 4\")[\"P4\"], bins=50, range=(0, 1), histtype=\"step\", fill=True, color=\"lightblue\", edgecolor=\"blue\")\n",
    "ax4.set_xlabel(\"P(NOVA group 4 | truth = 4)\")\n",
    "\n",
    "fig.suptitle(\"gpt-4.1-nano (no fine tuning)\", y=0.92)\n",
    "\n",
    "None"
   ]
  }
 ],
 "metadata": {
  "kernelspec": {
   "display_name": "Python 3 (ipykernel)",
   "language": "python",
   "name": "python3"
  },
  "language_info": {
   "codemirror_mode": {
    "name": "ipython",
    "version": 3
   },
   "file_extension": ".py",
   "mimetype": "text/x-python",
   "name": "python",
   "nbconvert_exporter": "python",
   "pygments_lexer": "ipython3",
   "version": "3.12.11"
  }
 },
 "nbformat": 4,
 "nbformat_minor": 5
}
