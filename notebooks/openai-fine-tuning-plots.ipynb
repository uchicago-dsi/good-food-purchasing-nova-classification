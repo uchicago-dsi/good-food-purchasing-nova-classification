{
 "cells": [
  {
   "cell_type": "code",
   "execution_count": 4,
   "id": "8edffaae-018f-4d04-80f2-a9ac9c65199a",
   "metadata": {},
   "outputs": [],
   "source": [
    "import glob\n",
    "import os\n",
    "\n",
    "import numpy as np\n",
    "import pandas as pd\n",
    "import matplotlib.pyplot as plt"
   ]
  },
  {
   "cell_type": "code",
   "execution_count": 16,
   "id": "652eeb81-3c3e-4bf0-a5e2-475d0fd44530",
   "metadata": {},
   "outputs": [
    {
     "data": {
      "text/html": [
       "<div>\n",
       "<style scoped>\n",
       "    .dataframe tbody tr th:only-of-type {\n",
       "        vertical-align: middle;\n",
       "    }\n",
       "\n",
       "    .dataframe tbody tr th {\n",
       "        vertical-align: top;\n",
       "    }\n",
       "\n",
       "    .dataframe thead th {\n",
       "        text-align: right;\n",
       "    }\n",
       "</style>\n",
       "<table border=\"1\" class=\"dataframe\">\n",
       "  <thead>\n",
       "    <tr style=\"text-align: right;\">\n",
       "      <th></th>\n",
       "      <th>P1</th>\n",
       "      <th>P2</th>\n",
       "      <th>P3</th>\n",
       "      <th>P4</th>\n",
       "      <th>truth</th>\n",
       "    </tr>\n",
       "    <tr>\n",
       "      <th>index</th>\n",
       "      <th></th>\n",
       "      <th></th>\n",
       "      <th></th>\n",
       "      <th></th>\n",
       "      <th></th>\n",
       "    </tr>\n",
       "  </thead>\n",
       "  <tbody>\n",
       "    <tr>\n",
       "      <th>0</th>\n",
       "      <td>3.653433e-08</td>\n",
       "      <td>4.222799e-06</td>\n",
       "      <td>0.999987</td>\n",
       "      <td>4.785058e-06</td>\n",
       "      <td>4</td>\n",
       "    </tr>\n",
       "    <tr>\n",
       "      <th>1</th>\n",
       "      <td>1.328799e-06</td>\n",
       "      <td>1.914317e-07</td>\n",
       "      <td>0.245064</td>\n",
       "      <td>7.548511e-01</td>\n",
       "      <td>4</td>\n",
       "    </tr>\n",
       "    <tr>\n",
       "      <th>2</th>\n",
       "      <td>7.328285e-03</td>\n",
       "      <td>9.598158e-01</td>\n",
       "      <td>0.032843</td>\n",
       "      <td>1.290032e-08</td>\n",
       "      <td>3</td>\n",
       "    </tr>\n",
       "    <tr>\n",
       "      <th>3</th>\n",
       "      <td>6.131744e-06</td>\n",
       "      <td>7.469994e-05</td>\n",
       "      <td>0.222677</td>\n",
       "      <td>7.772202e-01</td>\n",
       "      <td>4</td>\n",
       "    </tr>\n",
       "    <tr>\n",
       "      <th>4</th>\n",
       "      <td>9.958705e-01</td>\n",
       "      <td>3.591670e-03</td>\n",
       "      <td>0.000486</td>\n",
       "      <td>0.000000e+00</td>\n",
       "      <td>3</td>\n",
       "    </tr>\n",
       "    <tr>\n",
       "      <th>...</th>\n",
       "      <td>...</td>\n",
       "      <td>...</td>\n",
       "      <td>...</td>\n",
       "      <td>...</td>\n",
       "      <td>...</td>\n",
       "    </tr>\n",
       "    <tr>\n",
       "      <th>995</th>\n",
       "      <td>1.858056e-03</td>\n",
       "      <td>8.494003e-01</td>\n",
       "      <td>0.147604</td>\n",
       "      <td>1.126968e-03</td>\n",
       "      <td>4</td>\n",
       "    </tr>\n",
       "    <tr>\n",
       "      <th>996</th>\n",
       "      <td>9.924483e-01</td>\n",
       "      <td>2.787583e-03</td>\n",
       "      <td>0.004056</td>\n",
       "      <td>1.526557e-07</td>\n",
       "      <td>4</td>\n",
       "    </tr>\n",
       "    <tr>\n",
       "      <th>997</th>\n",
       "      <td>4.675429e-06</td>\n",
       "      <td>1.121577e-05</td>\n",
       "      <td>0.592627</td>\n",
       "      <td>4.073064e-01</td>\n",
       "      <td>4</td>\n",
       "    </tr>\n",
       "    <tr>\n",
       "      <th>998</th>\n",
       "      <td>1.275080e-07</td>\n",
       "      <td>1.444855e-07</td>\n",
       "      <td>0.000085</td>\n",
       "      <td>9.999128e-01</td>\n",
       "      <td>4</td>\n",
       "    </tr>\n",
       "    <tr>\n",
       "      <th>999</th>\n",
       "      <td>1.711503e-05</td>\n",
       "      <td>8.691730e-05</td>\n",
       "      <td>0.798075</td>\n",
       "      <td>2.017849e-01</td>\n",
       "      <td>4</td>\n",
       "    </tr>\n",
       "  </tbody>\n",
       "</table>\n",
       "<p>1000 rows × 5 columns</p>\n",
       "</div>"
      ],
      "text/plain": [
       "                 P1            P2        P3            P4  truth\n",
       "index                                                           \n",
       "0      3.653433e-08  4.222799e-06  0.999987  4.785058e-06      4\n",
       "1      1.328799e-06  1.914317e-07  0.245064  7.548511e-01      4\n",
       "2      7.328285e-03  9.598158e-01  0.032843  1.290032e-08      3\n",
       "3      6.131744e-06  7.469994e-05  0.222677  7.772202e-01      4\n",
       "4      9.958705e-01  3.591670e-03  0.000486  0.000000e+00      3\n",
       "...             ...           ...       ...           ...    ...\n",
       "995    1.858056e-03  8.494003e-01  0.147604  1.126968e-03      4\n",
       "996    9.924483e-01  2.787583e-03  0.004056  1.526557e-07      4\n",
       "997    4.675429e-06  1.121577e-05  0.592627  4.073064e-01      4\n",
       "998    1.275080e-07  1.444855e-07  0.000085  9.999128e-01      4\n",
       "999    1.711503e-05  8.691730e-05  0.798075  2.017849e-01      4\n",
       "\n",
       "[1000 rows x 5 columns]"
      ]
     },
     "execution_count": 16,
     "metadata": {},
     "output_type": "execute_result"
    }
   ],
   "source": [
    "results = []\n",
    "for filename in glob.glob(os.path.expanduser(\"~/dsi/good-food-purchasing-nova-classification/test-results/gpt-4.1-nano/*.csv\")):\n",
    "    results.append(pd.read_csv(filename, header=None, names=[\"index\", \"P1\", \"P2\", \"P3\", \"P4\", \"truth\"]))\n",
    "\n",
    "results = pd.concat(results).set_index(\"index\").sort_index()\n",
    "results"
   ]
  },
  {
   "cell_type": "code",
   "execution_count": 18,
   "id": "11fa1b15-b039-406d-b446-f098fd13f854",
   "metadata": {},
   "outputs": [
    {
     "data": {
      "text/plain": [
       "count    1000.000000\n",
       "mean        0.999958\n",
       "std         0.000097\n",
       "min         0.998474\n",
       "25%         0.999957\n",
       "50%         0.999987\n",
       "75%         0.999997\n",
       "max         1.000000\n",
       "dtype: float64"
      ]
     },
     "execution_count": 18,
     "metadata": {},
     "output_type": "execute_result"
    }
   ],
   "source": [
    "results[[\"P1\", \"P2\", \"P3\", \"P4\"]].sum(axis=1).describe()"
   ]
  },
  {
   "cell_type": "code",
   "execution_count": 29,
   "id": "904f2e3d-6670-41e6-b958-9df66456eb85",
   "metadata": {},
   "outputs": [
    {
     "data": {
      "image/png": "[encoded data removed]",
      "text/plain": [
       "<Figure size 800x800 with 4 Axes>"
      ]
     },
     "metadata": {},
     "output_type": "display_data"
    }
   ],
   "source": [
    "fig, ((ax1, ax2), (ax3, ax4)) = plt.subplots(2, 2, figsize=(8, 8))\n",
    "\n",
    "ax1.hist(results.query(\"truth == 1\")[\"P1\"], bins=50, range=(0, 1), histtype=\"step\")\n",
    "ax1.set_xlabel(\"P(NOVA group 1 | truth = 1)\")\n",
    "\n",
    "ax2.hist(results.query(\"truth == 2\")[\"P2\"], bins=50, range=(0, 1), histtype=\"step\")\n",
    "ax2.set_xlabel(\"P(NOVA group 2 | truth = 2)\")\n",
    "\n",
    "ax3.hist(results.query(\"truth == 3\")[\"P3\"], bins=50, range=(0, 1), histtype=\"step\")\n",
    "ax3.set_xlabel(\"P(NOVA group 3 | truth = 3)\")\n",
    "\n",
    "ax4.hist(results.query(\"truth == 4\")[\"P4\"], bins=50, range=(0, 1), histtype=\"step\")\n",
    "ax4.set_xlabel(\"P(NOVA group 4 | truth = 4)\")\n",
    "\n",
    "fig.suptitle(\"gpt-4.1-nano (no fine tuning)\")\n",
    "\n",
    "None"
   ]
  }
 ],
 "metadata": {
  "kernelspec": {
   "display_name": "Python 3 (ipykernel)",
   "language": "python",
   "name": "python3"
  },
  "language_info": {
   "codemirror_mode": {
    "name": "ipython",
    "version": 3
   },
   "file_extension": ".py",
   "mimetype": "text/x-python",
   "name": "python",
   "nbconvert_exporter": "python",
   "pygments_lexer": "ipython3",
   "version": "3.12.11"
  }
 },
 "nbformat": 4,
 "nbformat_minor": 5
}
